{
 "cells": [
  {
   "cell_type": "code",
   "execution_count": 1,
   "metadata": {},
   "outputs": [
    {
     "name": "stderr",
     "output_type": "stream",
     "text": [
      "Using TensorFlow backend.\n"
     ]
    }
   ],
   "source": [
    "# Robotics Model For Stick Balancing\n",
    "# Imports :\n",
    "\n",
    "import keras\n",
    "from keras.models import Sequential\n",
    "from keras.layers import Dense, Dropout, Activation\n",
    "import numpy as np\n",
    "import pandas as pd\n",
    "from sklearn.model_selection import train_test_split\n",
    "import matplotlib.pyplot as plt"
   ]
  },
  {
   "cell_type": "markdown",
   "metadata": {},
   "source": [
    "# Import Data :"
   ]
  },
  {
   "cell_type": "code",
   "execution_count": 2,
   "metadata": {},
   "outputs": [
    {
     "name": "stdout",
     "output_type": "stream",
     "text": [
      "X shape is = (44, 2) , Y shape is = (44, 2)\n"
     ]
    }
   ],
   "source": [
    "df = pd.read_csv('../dataset.csv')\n",
    "# Show Brief :\n",
    "x = df[[\"X2[t]\",\"S[t]\"]].values\n",
    "y = df[[\"X2[t+1]\",\"S[t+1]\"]].values\n",
    "x_train, x_test, y_train, y_test = train_test_split(x, y, test_size=0.33)\n",
    "print('X shape is =', x_train.shape, ', Y shape is =', y_train.shape)"
   ]
  },
  {
   "cell_type": "markdown",
   "metadata": {},
   "source": [
    "## Create Model :"
   ]
  },
  {
   "cell_type": "code",
   "execution_count": 3,
   "metadata": {},
   "outputs": [
    {
     "name": "stdout",
     "output_type": "stream",
     "text": [
      "WARNING:tensorflow:From /home/msain/anaconda3/envs/tensorflow_cpuenv/lib/python3.6/site-packages/tensorflow/python/framework/op_def_library.py:263: colocate_with (from tensorflow.python.framework.ops) is deprecated and will be removed in a future version.\n",
      "Instructions for updating:\n",
      "Colocations handled automatically by placer.\n"
     ]
    }
   ],
   "source": [
    "model = Sequential()\n",
    "model.add(Dense(16, activation='relu', input_dim=2))\n",
    "model.add(Dense(2, activation='linear'))\n",
    "model.compile(loss='mse',\n",
    "              optimizer='rmsprop',\n",
    "              metrics=['mse','mae'])"
   ]
  },
  {
   "cell_type": "markdown",
   "metadata": {},
   "source": [
    "## Fit :"
   ]
  },
  {
   "cell_type": "code",
   "execution_count": 4,
   "metadata": {},
   "outputs": [
    {
     "name": "stdout",
     "output_type": "stream",
     "text": [
      "WARNING:tensorflow:From /home/msain/anaconda3/envs/tensorflow_cpuenv/lib/python3.6/site-packages/tensorflow/python/ops/math_ops.py:3066: to_int32 (from tensorflow.python.ops.math_ops) is deprecated and will be removed in a future version.\n",
      "Instructions for updating:\n",
      "Use tf.cast instead.\n",
      "Train on 35 samples, validate on 9 samples\n",
      "Epoch 1/10\n",
      "35/35 [==============================] - 2s 45ms/step - loss: 105850.5230 - mean_squared_error: 105850.5230 - mean_absolute_error: 255.3727 - val_loss: 101329.1519 - val_mean_squared_error: 101329.1519 - val_mean_absolute_error: 247.3454\n",
      "Epoch 2/10\n",
      "35/35 [==============================] - 0s 913us/step - loss: 98009.8083 - mean_squared_error: 98009.8083 - mean_absolute_error: 241.9761 - val_loss: 95024.5946 - val_mean_squared_error: 95024.5946 - val_mean_absolute_error: 236.3195\n",
      "Epoch 3/10\n",
      "35/35 [==============================] - 0s 1ms/step - loss: 92078.0158 - mean_squared_error: 92078.0158 - mean_absolute_error: 231.4056 - val_loss: 89484.5165 - val_mean_squared_error: 89484.5165 - val_mean_absolute_error: 226.2100\n",
      "Epoch 4/10\n",
      "35/35 [==============================] - 0s 700us/step - loss: 86696.3721 - mean_squared_error: 86696.3721 - mean_absolute_error: 221.3422 - val_loss: 84302.1328 - val_mean_squared_error: 84302.1328 - val_mean_absolute_error: 216.2310\n",
      "Epoch 5/10\n",
      "35/35 [==============================] - 0s 374us/step - loss: 81602.4288 - mean_squared_error: 81602.4288 - mean_absolute_error: 211.2603 - val_loss: 79346.1380 - val_mean_squared_error: 79346.1380 - val_mean_absolute_error: 206.1144\n",
      "Epoch 6/10\n",
      "35/35 [==============================] - 0s 1ms/step - loss: 76724.5498 - mean_squared_error: 76724.5498 - mean_absolute_error: 201.1254 - val_loss: 74583.5799 - val_mean_squared_error: 74583.5799 - val_mean_absolute_error: 196.2266\n",
      "Epoch 7/10\n",
      "35/35 [==============================] - 0s 776us/step - loss: 72001.0491 - mean_squared_error: 72001.0491 - mean_absolute_error: 191.4917 - val_loss: 69927.8368 - val_mean_squared_error: 69927.8368 - val_mean_absolute_error: 187.1092\n",
      "Epoch 8/10\n",
      "35/35 [==============================] - 0s 627us/step - loss: 67397.8182 - mean_squared_error: 67397.8182 - mean_absolute_error: 184.1167 - val_loss: 65396.9874 - val_mean_squared_error: 65396.9874 - val_mean_absolute_error: 181.9953\n",
      "Epoch 9/10\n",
      "35/35 [==============================] - 0s 1ms/step - loss: 62880.4129 - mean_squared_error: 62880.4129 - mean_absolute_error: 178.5196 - val_loss: 60902.0365 - val_mean_squared_error: 60902.0365 - val_mean_absolute_error: 175.5723\n",
      "Epoch 10/10\n",
      "35/35 [==============================] - 0s 737us/step - loss: 58406.7687 - mean_squared_error: 58406.7687 - mean_absolute_error: 171.6962 - val_loss: 56468.4158 - val_mean_squared_error: 56468.4158 - val_mean_absolute_error: 168.5329\n"
     ]
    }
   ],
   "source": [
    "history = model.fit(x_train, y_train, epochs=10, batch_size=4,  verbose=1, validation_split=0.2)"
   ]
  },
  {
   "cell_type": "code",
   "execution_count": 5,
   "metadata": {},
   "outputs": [],
   "source": [
    "model.save('model.h5')"
   ]
  },
  {
   "cell_type": "markdown",
   "metadata": {},
   "source": [
    "## Test :"
   ]
  },
  {
   "cell_type": "code",
   "execution_count": 6,
   "metadata": {},
   "outputs": [
    {
     "name": "stdout",
     "output_type": "stream",
     "text": [
      "dict_keys(['val_loss', 'val_mean_squared_error', 'val_mean_absolute_error', 'loss', 'mean_squared_error', 'mean_absolute_error'])\n"
     ]
    },
    {
     "data": {
      "image/png": "[encoded data removed]",
      "text/plain": [
       "<Figure size 432x288 with 1 Axes>"
      ]
     },
     "metadata": {
      "needs_background": "light"
     },
     "output_type": "display_data"
    }
   ],
   "source": [
    "print(history.history.keys())\n",
    "# Plot\n",
    "plt.plot(history.history['loss'])\n",
    "plt.plot(history.history['val_loss'])\n",
    "plt.title('Model loss')\n",
    "plt.ylabel('Loss')\n",
    "plt.xlabel('Epoch')\n",
    "plt.legend(['Train', 'Validation'], loc='upper left')\n",
    "plt.show()"
   ]
  },
  {
   "cell_type": "markdown",
   "metadata": {},
   "source": [
    "## Predict :"
   ]
  },
  {
   "cell_type": "code",
   "execution_count": 6,
   "metadata": {},
   "outputs": [
    {
     "name": "stdout",
     "output_type": "stream",
     "text": [
      "X=[4.68000000e+02 3.63636364e-01], Predicted=[138.3276   -51.654873]\n"
     ]
    }
   ],
   "source": [
    "x_predict = np.array([x_test[0]])\n",
    "y_predict = model.predict(x_predict)\n",
    "print(\"X=%s, Predicted=%s\" % (x_predict[0], y_predict[0]))"
   ]
  },
  {
   "cell_type": "markdown",
   "metadata": {},
   "source": [
    "## Save & Visualize :"
   ]
  },
  {
   "cell_type": "code",
   "execution_count": 7,
   "metadata": {},
   "outputs": [],
   "source": [
    "new_predicted = model.predict(x_test)\n",
    "df = pd.DataFrame(new_predicted, columns=[\"X2[t]\",\"S[t]\"])\n",
    "df.to_csv('../visualize/dataset.csv', index=False)"
   ]
  },
  {
   "cell_type": "code",
   "execution_count": null,
   "metadata": {},
   "outputs": [],
   "source": []
  }
 ],
 "metadata": {
  "kernelspec": {
   "display_name": "Python 3",
   "language": "python",
   "name": "python3"
  },
  "language_info": {
   "codemirror_mode": {
    "name": "ipython",
    "version": 3
   },
   "file_extension": ".py",
   "mimetype": "text/x-python",
   "name": "python",
   "nbconvert_exporter": "python",
   "pygments_lexer": "ipython3",
   "version": "3.6.8"
  }
 },
 "nbformat": 4,
 "nbformat_minor": 2
}
